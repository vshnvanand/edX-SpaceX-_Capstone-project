{
 "cells": [
  {
   "cell_type": "code",
   "execution_count": 2,
   "id": "c3f02862",
   "metadata": {},
   "outputs": [
    {
     "name": "stdout",
     "output_type": "stream",
     "text": [
      "Requirement already satisfied: requests in c:\\users\\vaishnav anand\\anaconda3\\lib\\site-packages (2.32.3)\n",
      "Requirement already satisfied: charset-normalizer<4,>=2 in c:\\users\\vaishnav anand\\anaconda3\\lib\\site-packages (from requests) (3.3.2)\n",
      "Requirement already satisfied: idna<4,>=2.5 in c:\\users\\vaishnav anand\\anaconda3\\lib\\site-packages (from requests) (3.7)\n",
      "Requirement already satisfied: urllib3<3,>=1.21.1 in c:\\users\\vaishnav anand\\anaconda3\\lib\\site-packages (from requests) (2.3.0)\n",
      "Requirement already satisfied: certifi>=2017.4.17 in c:\\users\\vaishnav anand\\anaconda3\\lib\\site-packages (from requests) (2025.4.26)\n"
     ]
    }
   ],
   "source": [
    "! pip install requests\n",
    "# Requests allows us to make HTTP requests which we will use to get data from an API"
   ]
  },
  {
   "cell_type": "code",
   "execution_count": null,
   "id": "4e570643",
   "metadata": {},
   "outputs": [],
   "source": [
    "import json \n",
    "import numpy as np \n",
    "import pandas as pd \n",
    "import requests\n",
    "import datetime \n"
   ]
  },
  {
   "cell_type": "code",
   "execution_count": 4,
   "id": "1286810a",
   "metadata": {},
   "outputs": [],
   "source": [
    "url = \"https://api.spacexdata.com/v4/launches/past\"\n",
    "response = requests.get(url)"
   ]
  },
  {
   "cell_type": "code",
   "execution_count": 5,
   "id": "2d2fde36",
   "metadata": {},
   "outputs": [
    {
     "data": {
      "text/plain": [
       "200"
      ]
     },
     "execution_count": 5,
     "metadata": {},
     "output_type": "execute_result"
    }
   ],
   "source": [
    "response.content\n",
    "response.status_code"
   ]
  },
  {
   "cell_type": "code",
   "execution_count": 6,
   "id": "b92a8cbe",
   "metadata": {},
   "outputs": [],
   "source": [
    "# Method to convert the json result into a dataframe\n",
    "data = pd.DataFrame(response.json())\n",
    "data = data[['rocket', 'payloads', 'launchpad', 'cores', 'flight_number', 'date_utc']]"
   ]
  },
  {
   "cell_type": "code",
   "execution_count": 7,
   "id": "3b0414fe",
   "metadata": {},
   "outputs": [],
   "source": [
    "data = data[data['cores'].map(len) == 1]\n",
    "data = data[data['payloads'].map(len) == 1]"
   ]
  },
  {
   "cell_type": "code",
   "execution_count": 8,
   "id": "c4ad7f93",
   "metadata": {},
   "outputs": [],
   "source": [
    "# data cleaning and extraction getting and setting the data based on out need \n",
    "data['cores'] = data['cores'].map(lambda x:x[0])\n",
    "data['payloads'] = data['payloads'].map(lambda x:x[0])\n"
   ]
  },
  {
   "cell_type": "code",
   "execution_count": 9,
   "id": "ec5ee83c",
   "metadata": {},
   "outputs": [],
   "source": [
    "data['date'] = pd.to_datetime(data['date_utc']).dt.date"
   ]
  },
  {
   "cell_type": "code",
   "execution_count": 10,
   "id": "50221c1c",
   "metadata": {},
   "outputs": [],
   "source": [
    "data = data[data['date'] <= datetime.date(2020,11,13)]"
   ]
  },
  {
   "cell_type": "code",
   "execution_count": 11,
   "id": "c4494cfc",
   "metadata": {},
   "outputs": [
    {
     "data": {
      "text/plain": [
       "0    5e9d0d95eda69955f709d1eb\n",
       "Name: rocket, dtype: object"
      ]
     },
     "execution_count": 11,
     "metadata": {},
     "output_type": "execute_result"
    }
   ],
   "source": [
    "# Extract booster name from rocket \n",
    "# Extracting payload mass and orbit from payload \n",
    "# Extracting launchpad side, longitude and latitude from launchpad \n",
    "\n",
    "data['rocket'].head(1)"
   ]
  },
  {
   "cell_type": "code",
   "execution_count": 12,
   "id": "43456a16",
   "metadata": {},
   "outputs": [],
   "source": [
    "# making the induvial columns to obtain the required dataset\n",
    "BoosterVersion = []\n",
    "PayloadMass = []\n",
    "Orbit = []\n",
    "LaunchSite = []\n",
    "Outcome = []\n",
    "Flights = []\n",
    "GridFins = []\n",
    "Reused = []\n",
    "Legs = []\n",
    "LandingPad = []\n",
    "Block = []\n",
    "ReusedCount = []\n",
    "Serial = []\n",
    "Longitude = []\n",
    "Latitude = []"
   ]
  },
  {
   "cell_type": "code",
   "execution_count": 13,
   "id": "93eef740",
   "metadata": {},
   "outputs": [
    {
     "data": {
      "text/plain": [
       "['Falcon 1', 'Falcon 1', 'Falcon 1', 'Falcon 1', 'Falcon 9']"
      ]
     },
     "execution_count": 13,
     "metadata": {},
     "output_type": "execute_result"
    }
   ],
   "source": [
    "url1 = \"https://api.spacexdata.com/v4/rockets/\"\n",
    "def getBoosterVersion(data):\n",
    "    for x in data['rocket']:\n",
    "        if x:\n",
    "            BoosterVersion.append(requests.get(\"https://api.spacexdata.com/v4/rockets/\"+str(x)).json()['name'])\n",
    "\n",
    "getBoosterVersion(data)\n",
    "BoosterVersion[0:5]"
   ]
  },
  {
   "cell_type": "code",
   "execution_count": 14,
   "id": "b8124939",
   "metadata": {},
   "outputs": [],
   "source": [
    "def getLaunchSite(data):\n",
    "    for i in data['launchpad']:\n",
    "        if i :\n",
    "            url = 'https://api.spacexdata.com/v4/launchpads/' + str(i)\n",
    "            response = requests.get(url).json()\n",
    "            Longitude.append(response['latitude'])\n",
    "            Latitude.append(response['latitude'])\n",
    "            LaunchSite.append(response['name'])"
   ]
  },
  {
   "cell_type": "code",
   "execution_count": 15,
   "id": "2467da9a",
   "metadata": {},
   "outputs": [],
   "source": [
    "getLaunchSite(data)"
   ]
  },
  {
   "cell_type": "code",
   "execution_count": 16,
   "id": "94f64c1c",
   "metadata": {},
   "outputs": [],
   "source": [
    "def  getPayloadData(data):\n",
    "    for i in data['payloads']:\n",
    "        if i:\n",
    "            url = 'https://api.spacexdata.com/v4/payloads/' + str(i)\n",
    "            response = requests.get(url).json()\n",
    "            PayloadMass.append(response['mass_kg'])\n",
    "            Orbit.append(response['orbit'])  \n",
    "\n",
    "getPayloadData(data)"
   ]
  },
  {
   "cell_type": "code",
   "execution_count": 17,
   "id": "e73d24b2",
   "metadata": {},
   "outputs": [],
   "source": [
    "def getCoreData(data):\n",
    "    for i in data['cores']:\n",
    "        if i['core']:\n",
    "            url = \"https://api.spacexdata.com/v4/cores/\"+i['core']\n",
    "            response = requests.get(url).json()\n",
    "            Block.append(response['block'])\n",
    "            ReusedCount.append(response['reuse_count'])\n",
    "            Serial.append(response['serial'])\n",
    "            Outcome.append(str(i['landing_success'])+' '+str(i['landing_type']))\n",
    "            Flights.append(i['flight'])\n",
    "            GridFins.append(i['gridfins'])\n",
    "            Reused.append(i['reused'])\n",
    "            Legs.append(i['legs'])\n",
    "            LandingPad.append(i['landpad'])\n",
    "\n",
    "getCoreData(data)"
   ]
  },
  {
   "cell_type": "code",
   "execution_count": 18,
   "id": "eebd9c5e",
   "metadata": {},
   "outputs": [],
   "source": [
    "BoosterVersion = BoosterVersion[:94]"
   ]
  },
  {
   "cell_type": "code",
   "execution_count": 19,
   "id": "f0c0a508",
   "metadata": {},
   "outputs": [],
   "source": [
    "launch_dict = {'FlightNumber': list(data['flight_number']),\n",
    "'Date': list(data['date']),\n",
    "'BoosterVersion':BoosterVersion,\n",
    "'PayloadMass':PayloadMass,\n",
    "'Orbit':Orbit,\n",
    "'LaunchSite':LaunchSite,\n",
    "'Outcome':Outcome,\n",
    "'Flights':Flights,\n",
    "'GridFins':GridFins,\n",
    "'Reused':Reused,\n",
    "'Legs':Legs,\n",
    "'LandingPad':LandingPad,\n",
    "'Block':Block,\n",
    "'ReusedCount':ReusedCount,\n",
    "'Serial':Serial,\n",
    "'Longitude': Longitude,\n",
    "'Latitude': Latitude}\n",
    "\n",
    "\n"
   ]
  },
  {
   "cell_type": "code",
   "execution_count": 20,
   "id": "619d1cf8",
   "metadata": {},
   "outputs": [
    {
     "name": "stdout",
     "output_type": "stream",
     "text": [
      "94\n",
      "94\n",
      "94\n",
      "94\n",
      "94\n",
      "94\n",
      "94\n",
      "94\n",
      "94\n",
      "94\n",
      "94\n",
      "94\n",
      "94\n",
      "94\n",
      "94\n",
      "94\n",
      "94\n"
     ]
    }
   ],
   "source": [
    "for i in launch_dict:\n",
    "    print(len(launch_dict[i]))"
   ]
  },
  {
   "cell_type": "code",
   "execution_count": 21,
   "id": "798dd554",
   "metadata": {},
   "outputs": [],
   "source": [
    "# DataFrame\n",
    "df = pd.DataFrame.from_dict(launch_dict)"
   ]
  },
  {
   "cell_type": "code",
   "execution_count": 22,
   "id": "7db11683",
   "metadata": {},
   "outputs": [],
   "source": [
    "# Filtering only Falcon 9\n",
    "df = df[df['BoosterVersion'] == 'Falcon 9']"
   ]
  },
  {
   "cell_type": "code",
   "execution_count": 23,
   "id": "fb116c8f",
   "metadata": {},
   "outputs": [],
   "source": [
    "# Arranging the based on FlightNumber\n",
    "df.loc[:,'FlightNumber'] = list(range(1,df.shape[0]+1))"
   ]
  },
  {
   "cell_type": "code",
   "execution_count": 24,
   "id": "17cbf60f",
   "metadata": {},
   "outputs": [
    {
     "data": {
      "text/plain": [
       "FlightNumber       0\n",
       "Date               0\n",
       "BoosterVersion     0\n",
       "PayloadMass        5\n",
       "Orbit              0\n",
       "LaunchSite         0\n",
       "Outcome            0\n",
       "Flights            0\n",
       "GridFins           0\n",
       "Reused             0\n",
       "Legs               0\n",
       "LandingPad        26\n",
       "Block              0\n",
       "ReusedCount        0\n",
       "Serial             0\n",
       "Longitude          0\n",
       "Latitude           0\n",
       "dtype: int64"
      ]
     },
     "execution_count": 24,
     "metadata": {},
     "output_type": "execute_result"
    }
   ],
   "source": [
    "df.isnull().sum()"
   ]
  },
  {
   "cell_type": "code",
   "execution_count": 25,
   "id": "f58ea642",
   "metadata": {},
   "outputs": [],
   "source": [
    "# Removing all null values\n",
    "df['PayloadMass'] = df['PayloadMass'].fillna(df['PayloadMass'].mean())"
   ]
  },
  {
   "cell_type": "code",
   "execution_count": 26,
   "id": "9c980835",
   "metadata": {},
   "outputs": [
    {
     "data": {
      "text/plain": [
       "FlightNumber       0\n",
       "Date               0\n",
       "BoosterVersion     0\n",
       "PayloadMass        0\n",
       "Orbit              0\n",
       "LaunchSite         0\n",
       "Outcome            0\n",
       "Flights            0\n",
       "GridFins           0\n",
       "Reused             0\n",
       "Legs               0\n",
       "LandingPad        26\n",
       "Block              0\n",
       "ReusedCount        0\n",
       "Serial             0\n",
       "Longitude          0\n",
       "Latitude           0\n",
       "dtype: int64"
      ]
     },
     "execution_count": 26,
     "metadata": {},
     "output_type": "execute_result"
    }
   ],
   "source": [
    "df.isnull().sum()"
   ]
  },
  {
   "cell_type": "code",
   "execution_count": 29,
   "id": "bbb6c340",
   "metadata": {},
   "outputs": [],
   "source": [
    "df.to_csv('API_dataset.csv',index = False)"
   ]
  },
  {
   "cell_type": "code",
   "execution_count": 28,
   "id": "283509f8",
   "metadata": {},
   "outputs": [
    {
     "data": {
      "text/html": [
       "<div>\n",
       "<style scoped>\n",
       "    .dataframe tbody tr th:only-of-type {\n",
       "        vertical-align: middle;\n",
       "    }\n",
       "\n",
       "    .dataframe tbody tr th {\n",
       "        vertical-align: top;\n",
       "    }\n",
       "\n",
       "    .dataframe thead th {\n",
       "        text-align: right;\n",
       "    }\n",
       "</style>\n",
       "<table border=\"1\" class=\"dataframe\">\n",
       "  <thead>\n",
       "    <tr style=\"text-align: right;\">\n",
       "      <th></th>\n",
       "      <th>FlightNumber</th>\n",
       "      <th>Date</th>\n",
       "      <th>BoosterVersion</th>\n",
       "      <th>PayloadMass</th>\n",
       "      <th>Orbit</th>\n",
       "      <th>LaunchSite</th>\n",
       "      <th>Outcome</th>\n",
       "      <th>Flights</th>\n",
       "      <th>GridFins</th>\n",
       "      <th>Reused</th>\n",
       "      <th>Legs</th>\n",
       "      <th>LandingPad</th>\n",
       "      <th>Block</th>\n",
       "      <th>ReusedCount</th>\n",
       "      <th>Serial</th>\n",
       "      <th>Longitude</th>\n",
       "      <th>Latitude</th>\n",
       "    </tr>\n",
       "  </thead>\n",
       "  <tbody>\n",
       "    <tr>\n",
       "      <th>4</th>\n",
       "      <td>1</td>\n",
       "      <td>2010-06-04</td>\n",
       "      <td>Falcon 9</td>\n",
       "      <td>6123.547647</td>\n",
       "      <td>LEO</td>\n",
       "      <td>CCSFS SLC 40</td>\n",
       "      <td>None None</td>\n",
       "      <td>1</td>\n",
       "      <td>False</td>\n",
       "      <td>False</td>\n",
       "      <td>False</td>\n",
       "      <td>None</td>\n",
       "      <td>1.0</td>\n",
       "      <td>0</td>\n",
       "      <td>B0003</td>\n",
       "      <td>28.561857</td>\n",
       "      <td>28.561857</td>\n",
       "    </tr>\n",
       "    <tr>\n",
       "      <th>5</th>\n",
       "      <td>2</td>\n",
       "      <td>2012-05-22</td>\n",
       "      <td>Falcon 9</td>\n",
       "      <td>525.000000</td>\n",
       "      <td>LEO</td>\n",
       "      <td>CCSFS SLC 40</td>\n",
       "      <td>None None</td>\n",
       "      <td>1</td>\n",
       "      <td>False</td>\n",
       "      <td>False</td>\n",
       "      <td>False</td>\n",
       "      <td>None</td>\n",
       "      <td>1.0</td>\n",
       "      <td>0</td>\n",
       "      <td>B0005</td>\n",
       "      <td>28.561857</td>\n",
       "      <td>28.561857</td>\n",
       "    </tr>\n",
       "    <tr>\n",
       "      <th>6</th>\n",
       "      <td>3</td>\n",
       "      <td>2013-03-01</td>\n",
       "      <td>Falcon 9</td>\n",
       "      <td>677.000000</td>\n",
       "      <td>ISS</td>\n",
       "      <td>CCSFS SLC 40</td>\n",
       "      <td>None None</td>\n",
       "      <td>1</td>\n",
       "      <td>False</td>\n",
       "      <td>False</td>\n",
       "      <td>False</td>\n",
       "      <td>None</td>\n",
       "      <td>1.0</td>\n",
       "      <td>0</td>\n",
       "      <td>B0007</td>\n",
       "      <td>28.561857</td>\n",
       "      <td>28.561857</td>\n",
       "    </tr>\n",
       "    <tr>\n",
       "      <th>7</th>\n",
       "      <td>4</td>\n",
       "      <td>2013-09-29</td>\n",
       "      <td>Falcon 9</td>\n",
       "      <td>500.000000</td>\n",
       "      <td>PO</td>\n",
       "      <td>VAFB SLC 4E</td>\n",
       "      <td>False Ocean</td>\n",
       "      <td>1</td>\n",
       "      <td>False</td>\n",
       "      <td>False</td>\n",
       "      <td>False</td>\n",
       "      <td>None</td>\n",
       "      <td>1.0</td>\n",
       "      <td>0</td>\n",
       "      <td>B1003</td>\n",
       "      <td>34.632093</td>\n",
       "      <td>34.632093</td>\n",
       "    </tr>\n",
       "    <tr>\n",
       "      <th>8</th>\n",
       "      <td>5</td>\n",
       "      <td>2013-12-03</td>\n",
       "      <td>Falcon 9</td>\n",
       "      <td>3170.000000</td>\n",
       "      <td>GTO</td>\n",
       "      <td>CCSFS SLC 40</td>\n",
       "      <td>None None</td>\n",
       "      <td>1</td>\n",
       "      <td>False</td>\n",
       "      <td>False</td>\n",
       "      <td>False</td>\n",
       "      <td>None</td>\n",
       "      <td>1.0</td>\n",
       "      <td>0</td>\n",
       "      <td>B1004</td>\n",
       "      <td>28.561857</td>\n",
       "      <td>28.561857</td>\n",
       "    </tr>\n",
       "  </tbody>\n",
       "</table>\n",
       "</div>"
      ],
      "text/plain": [
       "   FlightNumber        Date BoosterVersion  PayloadMass Orbit    LaunchSite  \\\n",
       "4             1  2010-06-04       Falcon 9  6123.547647   LEO  CCSFS SLC 40   \n",
       "5             2  2012-05-22       Falcon 9   525.000000   LEO  CCSFS SLC 40   \n",
       "6             3  2013-03-01       Falcon 9   677.000000   ISS  CCSFS SLC 40   \n",
       "7             4  2013-09-29       Falcon 9   500.000000    PO   VAFB SLC 4E   \n",
       "8             5  2013-12-03       Falcon 9  3170.000000   GTO  CCSFS SLC 40   \n",
       "\n",
       "       Outcome  Flights  GridFins  Reused   Legs LandingPad  Block  \\\n",
       "4    None None        1     False   False  False       None    1.0   \n",
       "5    None None        1     False   False  False       None    1.0   \n",
       "6    None None        1     False   False  False       None    1.0   \n",
       "7  False Ocean        1     False   False  False       None    1.0   \n",
       "8    None None        1     False   False  False       None    1.0   \n",
       "\n",
       "   ReusedCount Serial  Longitude   Latitude  \n",
       "4            0  B0003  28.561857  28.561857  \n",
       "5            0  B0005  28.561857  28.561857  \n",
       "6            0  B0007  28.561857  28.561857  \n",
       "7            0  B1003  34.632093  34.632093  \n",
       "8            0  B1004  28.561857  28.561857  "
      ]
     },
     "execution_count": 28,
     "metadata": {},
     "output_type": "execute_result"
    }
   ],
   "source": [
    "df.head(5)"
   ]
  }
 ],
 "metadata": {
  "kernelspec": {
   "display_name": "base",
   "language": "python",
   "name": "python3"
  },
  "language_info": {
   "codemirror_mode": {
    "name": "ipython",
    "version": 3
   },
   "file_extension": ".py",
   "mimetype": "text/x-python",
   "name": "python",
   "nbconvert_exporter": "python",
   "pygments_lexer": "ipython3",
   "version": "3.13.5"
  }
 },
 "nbformat": 4,
 "nbformat_minor": 5
}
